{
 "cells": [
  {
   "cell_type": "code",
   "execution_count": 1,
   "metadata": {},
   "outputs": [],
   "source": [
    "import numpy as np\n",
    "import pandas as pd"
   ]
  },
  {
   "cell_type": "code",
   "execution_count": 2,
   "metadata": {},
   "outputs": [],
   "source": [
    "df = pd.read_csv('data/creditcard.csv.zip', compression='zip')"
   ]
  },
  {
   "cell_type": "code",
   "execution_count": 3,
   "metadata": {},
   "outputs": [],
   "source": [
    "df['Idx'] = range(1, len(df) + 1)"
   ]
  },
  {
   "cell_type": "code",
   "execution_count": 5,
   "metadata": {},
   "outputs": [],
   "source": [
    "df = df.set_index('Idx')"
   ]
  },
  {
   "cell_type": "code",
   "execution_count": 6,
   "metadata": {},
   "outputs": [
    {
     "data": {
      "text/html": [
       "<div>\n",
       "<style scoped>\n",
       "    .dataframe tbody tr th:only-of-type {\n",
       "        vertical-align: middle;\n",
       "    }\n",
       "\n",
       "    .dataframe tbody tr th {\n",
       "        vertical-align: top;\n",
       "    }\n",
       "\n",
       "    .dataframe thead th {\n",
       "        text-align: right;\n",
       "    }\n",
       "</style>\n",
       "<table border=\"1\" class=\"dataframe\">\n",
       "  <thead>\n",
       "    <tr style=\"text-align: right;\">\n",
       "      <th></th>\n",
       "      <th>Time</th>\n",
       "      <th>V1</th>\n",
       "      <th>V2</th>\n",
       "      <th>V3</th>\n",
       "      <th>V4</th>\n",
       "      <th>V5</th>\n",
       "      <th>V6</th>\n",
       "      <th>V7</th>\n",
       "      <th>V8</th>\n",
       "      <th>V9</th>\n",
       "      <th>...</th>\n",
       "      <th>V21</th>\n",
       "      <th>V22</th>\n",
       "      <th>V23</th>\n",
       "      <th>V24</th>\n",
       "      <th>V25</th>\n",
       "      <th>V26</th>\n",
       "      <th>V27</th>\n",
       "      <th>V28</th>\n",
       "      <th>Amount</th>\n",
       "      <th>Class</th>\n",
       "    </tr>\n",
       "    <tr>\n",
       "      <th>Idx</th>\n",
       "      <th></th>\n",
       "      <th></th>\n",
       "      <th></th>\n",
       "      <th></th>\n",
       "      <th></th>\n",
       "      <th></th>\n",
       "      <th></th>\n",
       "      <th></th>\n",
       "      <th></th>\n",
       "      <th></th>\n",
       "      <th></th>\n",
       "      <th></th>\n",
       "      <th></th>\n",
       "      <th></th>\n",
       "      <th></th>\n",
       "      <th></th>\n",
       "      <th></th>\n",
       "      <th></th>\n",
       "      <th></th>\n",
       "      <th></th>\n",
       "      <th></th>\n",
       "    </tr>\n",
       "  </thead>\n",
       "  <tbody>\n",
       "    <tr>\n",
       "      <th>1</th>\n",
       "      <td>0.0</td>\n",
       "      <td>-1.359807</td>\n",
       "      <td>-0.072781</td>\n",
       "      <td>2.536347</td>\n",
       "      <td>1.378155</td>\n",
       "      <td>-0.338321</td>\n",
       "      <td>0.462388</td>\n",
       "      <td>0.239599</td>\n",
       "      <td>0.098698</td>\n",
       "      <td>0.363787</td>\n",
       "      <td>...</td>\n",
       "      <td>-0.018307</td>\n",
       "      <td>0.277838</td>\n",
       "      <td>-0.110474</td>\n",
       "      <td>0.066928</td>\n",
       "      <td>0.128539</td>\n",
       "      <td>-0.189115</td>\n",
       "      <td>0.133558</td>\n",
       "      <td>-0.021053</td>\n",
       "      <td>149.62</td>\n",
       "      <td>0</td>\n",
       "    </tr>\n",
       "    <tr>\n",
       "      <th>2</th>\n",
       "      <td>0.0</td>\n",
       "      <td>1.191857</td>\n",
       "      <td>0.266151</td>\n",
       "      <td>0.166480</td>\n",
       "      <td>0.448154</td>\n",
       "      <td>0.060018</td>\n",
       "      <td>-0.082361</td>\n",
       "      <td>-0.078803</td>\n",
       "      <td>0.085102</td>\n",
       "      <td>-0.255425</td>\n",
       "      <td>...</td>\n",
       "      <td>-0.225775</td>\n",
       "      <td>-0.638672</td>\n",
       "      <td>0.101288</td>\n",
       "      <td>-0.339846</td>\n",
       "      <td>0.167170</td>\n",
       "      <td>0.125895</td>\n",
       "      <td>-0.008983</td>\n",
       "      <td>0.014724</td>\n",
       "      <td>2.69</td>\n",
       "      <td>0</td>\n",
       "    </tr>\n",
       "    <tr>\n",
       "      <th>3</th>\n",
       "      <td>1.0</td>\n",
       "      <td>-1.358354</td>\n",
       "      <td>-1.340163</td>\n",
       "      <td>1.773209</td>\n",
       "      <td>0.379780</td>\n",
       "      <td>-0.503198</td>\n",
       "      <td>1.800499</td>\n",
       "      <td>0.791461</td>\n",
       "      <td>0.247676</td>\n",
       "      <td>-1.514654</td>\n",
       "      <td>...</td>\n",
       "      <td>0.247998</td>\n",
       "      <td>0.771679</td>\n",
       "      <td>0.909412</td>\n",
       "      <td>-0.689281</td>\n",
       "      <td>-0.327642</td>\n",
       "      <td>-0.139097</td>\n",
       "      <td>-0.055353</td>\n",
       "      <td>-0.059752</td>\n",
       "      <td>378.66</td>\n",
       "      <td>0</td>\n",
       "    </tr>\n",
       "    <tr>\n",
       "      <th>4</th>\n",
       "      <td>1.0</td>\n",
       "      <td>-0.966272</td>\n",
       "      <td>-0.185226</td>\n",
       "      <td>1.792993</td>\n",
       "      <td>-0.863291</td>\n",
       "      <td>-0.010309</td>\n",
       "      <td>1.247203</td>\n",
       "      <td>0.237609</td>\n",
       "      <td>0.377436</td>\n",
       "      <td>-1.387024</td>\n",
       "      <td>...</td>\n",
       "      <td>-0.108300</td>\n",
       "      <td>0.005274</td>\n",
       "      <td>-0.190321</td>\n",
       "      <td>-1.175575</td>\n",
       "      <td>0.647376</td>\n",
       "      <td>-0.221929</td>\n",
       "      <td>0.062723</td>\n",
       "      <td>0.061458</td>\n",
       "      <td>123.50</td>\n",
       "      <td>0</td>\n",
       "    </tr>\n",
       "    <tr>\n",
       "      <th>5</th>\n",
       "      <td>2.0</td>\n",
       "      <td>-1.158233</td>\n",
       "      <td>0.877737</td>\n",
       "      <td>1.548718</td>\n",
       "      <td>0.403034</td>\n",
       "      <td>-0.407193</td>\n",
       "      <td>0.095921</td>\n",
       "      <td>0.592941</td>\n",
       "      <td>-0.270533</td>\n",
       "      <td>0.817739</td>\n",
       "      <td>...</td>\n",
       "      <td>-0.009431</td>\n",
       "      <td>0.798278</td>\n",
       "      <td>-0.137458</td>\n",
       "      <td>0.141267</td>\n",
       "      <td>-0.206010</td>\n",
       "      <td>0.502292</td>\n",
       "      <td>0.219422</td>\n",
       "      <td>0.215153</td>\n",
       "      <td>69.99</td>\n",
       "      <td>0</td>\n",
       "    </tr>\n",
       "  </tbody>\n",
       "</table>\n",
       "<p>5 rows × 31 columns</p>\n",
       "</div>"
      ],
      "text/plain": [
       "     Time        V1        V2        V3        V4        V5        V6  \\\n",
       "Idx                                                                     \n",
       "1     0.0 -1.359807 -0.072781  2.536347  1.378155 -0.338321  0.462388   \n",
       "2     0.0  1.191857  0.266151  0.166480  0.448154  0.060018 -0.082361   \n",
       "3     1.0 -1.358354 -1.340163  1.773209  0.379780 -0.503198  1.800499   \n",
       "4     1.0 -0.966272 -0.185226  1.792993 -0.863291 -0.010309  1.247203   \n",
       "5     2.0 -1.158233  0.877737  1.548718  0.403034 -0.407193  0.095921   \n",
       "\n",
       "           V7        V8        V9  ...         V21       V22       V23  \\\n",
       "Idx                                ...                                   \n",
       "1    0.239599  0.098698  0.363787  ...   -0.018307  0.277838 -0.110474   \n",
       "2   -0.078803  0.085102 -0.255425  ...   -0.225775 -0.638672  0.101288   \n",
       "3    0.791461  0.247676 -1.514654  ...    0.247998  0.771679  0.909412   \n",
       "4    0.237609  0.377436 -1.387024  ...   -0.108300  0.005274 -0.190321   \n",
       "5    0.592941 -0.270533  0.817739  ...   -0.009431  0.798278 -0.137458   \n",
       "\n",
       "          V24       V25       V26       V27       V28  Amount  Class  \n",
       "Idx                                                                   \n",
       "1    0.066928  0.128539 -0.189115  0.133558 -0.021053  149.62      0  \n",
       "2   -0.339846  0.167170  0.125895 -0.008983  0.014724    2.69      0  \n",
       "3   -0.689281 -0.327642 -0.139097 -0.055353 -0.059752  378.66      0  \n",
       "4   -1.175575  0.647376 -0.221929  0.062723  0.061458  123.50      0  \n",
       "5    0.141267 -0.206010  0.502292  0.219422  0.215153   69.99      0  \n",
       "\n",
       "[5 rows x 31 columns]"
      ]
     },
     "execution_count": 6,
     "metadata": {},
     "output_type": "execute_result"
    }
   ],
   "source": [
    "df.head()"
   ]
  },
  {
   "cell_type": "code",
   "execution_count": 11,
   "metadata": {},
   "outputs": [
    {
     "data": {
      "text/html": [
       "<div>\n",
       "<style scoped>\n",
       "    .dataframe tbody tr th:only-of-type {\n",
       "        vertical-align: middle;\n",
       "    }\n",
       "\n",
       "    .dataframe tbody tr th {\n",
       "        vertical-align: top;\n",
       "    }\n",
       "\n",
       "    .dataframe thead th {\n",
       "        text-align: right;\n",
       "    }\n",
       "</style>\n",
       "<table border=\"1\" class=\"dataframe\">\n",
       "  <thead>\n",
       "    <tr style=\"text-align: right;\">\n",
       "      <th></th>\n",
       "      <th>Time</th>\n",
       "      <th>V1</th>\n",
       "      <th>V2</th>\n",
       "      <th>V3</th>\n",
       "      <th>V4</th>\n",
       "      <th>V5</th>\n",
       "      <th>V6</th>\n",
       "      <th>V7</th>\n",
       "      <th>V8</th>\n",
       "      <th>V9</th>\n",
       "      <th>...</th>\n",
       "      <th>V21</th>\n",
       "      <th>V22</th>\n",
       "      <th>V23</th>\n",
       "      <th>V24</th>\n",
       "      <th>V25</th>\n",
       "      <th>V26</th>\n",
       "      <th>V27</th>\n",
       "      <th>V28</th>\n",
       "      <th>Amount</th>\n",
       "      <th>Class</th>\n",
       "    </tr>\n",
       "    <tr>\n",
       "      <th>Idx</th>\n",
       "      <th></th>\n",
       "      <th></th>\n",
       "      <th></th>\n",
       "      <th></th>\n",
       "      <th></th>\n",
       "      <th></th>\n",
       "      <th></th>\n",
       "      <th></th>\n",
       "      <th></th>\n",
       "      <th></th>\n",
       "      <th></th>\n",
       "      <th></th>\n",
       "      <th></th>\n",
       "      <th></th>\n",
       "      <th></th>\n",
       "      <th></th>\n",
       "      <th></th>\n",
       "      <th></th>\n",
       "      <th></th>\n",
       "      <th></th>\n",
       "      <th></th>\n",
       "    </tr>\n",
       "  </thead>\n",
       "  <tbody>\n",
       "    <tr>\n",
       "      <th>1</th>\n",
       "      <td>0.0</td>\n",
       "      <td>-1.359807</td>\n",
       "      <td>-0.072781</td>\n",
       "      <td>2.536347</td>\n",
       "      <td>1.378155</td>\n",
       "      <td>-0.338321</td>\n",
       "      <td>0.462388</td>\n",
       "      <td>0.239599</td>\n",
       "      <td>0.098698</td>\n",
       "      <td>0.363787</td>\n",
       "      <td>...</td>\n",
       "      <td>-0.018307</td>\n",
       "      <td>0.277838</td>\n",
       "      <td>-0.110474</td>\n",
       "      <td>0.066928</td>\n",
       "      <td>0.128539</td>\n",
       "      <td>-0.189115</td>\n",
       "      <td>0.133558</td>\n",
       "      <td>-0.021053</td>\n",
       "      <td>149.62</td>\n",
       "      <td>0</td>\n",
       "    </tr>\n",
       "  </tbody>\n",
       "</table>\n",
       "<p>1 rows × 31 columns</p>\n",
       "</div>"
      ],
      "text/plain": [
       "     Time        V1        V2        V3        V4        V5        V6  \\\n",
       "Idx                                                                     \n",
       "1     0.0 -1.359807 -0.072781  2.536347  1.378155 -0.338321  0.462388   \n",
       "\n",
       "           V7        V8        V9  ...         V21       V22       V23  \\\n",
       "Idx                                ...                                   \n",
       "1    0.239599  0.098698  0.363787  ...   -0.018307  0.277838 -0.110474   \n",
       "\n",
       "          V24       V25       V26       V27       V28  Amount  Class  \n",
       "Idx                                                                   \n",
       "1    0.066928  0.128539 -0.189115  0.133558 -0.021053  149.62      0  \n",
       "\n",
       "[1 rows x 31 columns]"
      ]
     },
     "execution_count": 11,
     "metadata": {},
     "output_type": "execute_result"
    }
   ],
   "source": [
    "df[df.index.isin({1, })]"
   ]
  },
  {
   "cell_type": "code",
   "execution_count": 12,
   "metadata": {},
   "outputs": [],
   "source": [
    "fraud = df[df['Class'] == 1]\n",
    "non_fraud = df[df['Class'] == 0]"
   ]
  },
  {
   "cell_type": "code",
   "execution_count": 13,
   "metadata": {},
   "outputs": [],
   "source": [
    "fraud_ids = fraud.index.values"
   ]
  },
  {
   "cell_type": "code",
   "execution_count": 38,
   "metadata": {},
   "outputs": [
    {
     "name": "stdout",
     "output_type": "stream",
     "text": [
      "fraud_ids size is 492 non_fraud_trimmed_ids size is 492\n"
     ]
    }
   ],
   "source": [
    "non_fraud_trimmed_ids = np.random.choice(non_fraud.index.values, len(fraud_ids))\n",
    "print(f'fraud_ids size is {len(fraud_ids)} non_fraud_trimmed_ids size is {len(non_fraud_trimmed_ids)}')"
   ]
  },
  {
   "cell_type": "code",
   "execution_count": 39,
   "metadata": {},
   "outputs": [],
   "source": [
    "dataset = df[(df.index.isin(fraud_ids)) | (df.index.isin(non_fraud_trimmed_ids))]"
   ]
  },
  {
   "cell_type": "code",
   "execution_count": 40,
   "metadata": {},
   "outputs": [
    {
     "data": {
      "text/plain": [
       "1    492\n",
       "0    492\n",
       "Name: Class, dtype: int64"
      ]
     },
     "execution_count": 40,
     "metadata": {},
     "output_type": "execute_result"
    }
   ],
   "source": [
    "dataset['Class'].value_counts()"
   ]
  },
  {
   "cell_type": "code",
   "execution_count": 41,
   "metadata": {},
   "outputs": [
    {
     "name": "stdout",
     "output_type": "stream",
     "text": [
      "<class 'pandas.core.frame.DataFrame'>\n",
      "Int64Index: 984 entries, 331 to 284301\n",
      "Data columns (total 31 columns):\n",
      "Time      984 non-null float64\n",
      "V1        984 non-null float64\n",
      "V2        984 non-null float64\n",
      "V3        984 non-null float64\n",
      "V4        984 non-null float64\n",
      "V5        984 non-null float64\n",
      "V6        984 non-null float64\n",
      "V7        984 non-null float64\n",
      "V8        984 non-null float64\n",
      "V9        984 non-null float64\n",
      "V10       984 non-null float64\n",
      "V11       984 non-null float64\n",
      "V12       984 non-null float64\n",
      "V13       984 non-null float64\n",
      "V14       984 non-null float64\n",
      "V15       984 non-null float64\n",
      "V16       984 non-null float64\n",
      "V17       984 non-null float64\n",
      "V18       984 non-null float64\n",
      "V19       984 non-null float64\n",
      "V20       984 non-null float64\n",
      "V21       984 non-null float64\n",
      "V22       984 non-null float64\n",
      "V23       984 non-null float64\n",
      "V24       984 non-null float64\n",
      "V25       984 non-null float64\n",
      "V26       984 non-null float64\n",
      "V27       984 non-null float64\n",
      "V28       984 non-null float64\n",
      "Amount    984 non-null float64\n",
      "Class     984 non-null int64\n",
      "dtypes: float64(30), int64(1)\n",
      "memory usage: 246.0 KB\n"
     ]
    }
   ],
   "source": [
    "dataset.info()"
   ]
  },
  {
   "cell_type": "code",
   "execution_count": 42,
   "metadata": {},
   "outputs": [
    {
     "data": {
      "text/plain": [
       "Time      80746.806911\n",
       "V1           -4.771948\n",
       "V2            3.623778\n",
       "V3           -7.033281\n",
       "V4            4.542029\n",
       "V5           -3.151225\n",
       "V6           -1.397737\n",
       "V7           -5.568731\n",
       "V8            0.570636\n",
       "V9           -2.581123\n",
       "V10          -5.676883\n",
       "V11           3.800173\n",
       "V12          -6.259393\n",
       "V13          -0.109334\n",
       "V14          -6.971723\n",
       "V15          -0.092929\n",
       "V16          -4.139946\n",
       "V17          -6.665836\n",
       "V18          -2.246308\n",
       "V19           0.680659\n",
       "V20           0.372319\n",
       "V21           0.713588\n",
       "V22           0.014049\n",
       "V23          -0.040308\n",
       "V24          -0.105130\n",
       "V25           0.041449\n",
       "V26           0.051648\n",
       "V27           0.170575\n",
       "V28           0.075667\n",
       "Amount      122.211321\n",
       "Class         1.000000\n",
       "dtype: float64"
      ]
     },
     "execution_count": 42,
     "metadata": {},
     "output_type": "execute_result"
    }
   ],
   "source": [
    "dataset[dataset['Class'] == 1].mean()"
   ]
  },
  {
   "cell_type": "code",
   "execution_count": 43,
   "metadata": {},
   "outputs": [
    {
     "data": {
      "text/plain": [
       "Time      96366.227642\n",
       "V1            0.043681\n",
       "V2            0.068811\n",
       "V3           -0.006703\n",
       "V4           -0.122699\n",
       "V5           -0.025988\n",
       "V6           -0.003602\n",
       "V7            0.065622\n",
       "V8            0.033191\n",
       "V9           -0.010866\n",
       "V10           0.044712\n",
       "V11          -0.062613\n",
       "V12          -0.002467\n",
       "V13          -0.062352\n",
       "V14           0.009401\n",
       "V15          -0.065747\n",
       "V16          -0.024593\n",
       "V17          -0.005128\n",
       "V18          -0.003968\n",
       "V19           0.000946\n",
       "V20          -0.014066\n",
       "V21           0.005588\n",
       "V22          -0.012074\n",
       "V23          -0.006449\n",
       "V24           0.059885\n",
       "V25           0.020542\n",
       "V26          -0.017212\n",
       "V27          -0.035569\n",
       "V28          -0.001786\n",
       "Amount       84.622398\n",
       "Class         0.000000\n",
       "dtype: float64"
      ]
     },
     "execution_count": 43,
     "metadata": {},
     "output_type": "execute_result"
    }
   ],
   "source": [
    "dataset[dataset['Class'] == 0].mean()"
   ]
  },
  {
   "cell_type": "code",
   "execution_count": 44,
   "metadata": {},
   "outputs": [],
   "source": [
    "import matplotlib.pyplot as plt\n",
    "import seaborn as sns\n"
   ]
  },
  {
   "cell_type": "code",
   "execution_count": 45,
   "metadata": {},
   "outputs": [],
   "source": [
    "%config InlineBackend.figure_format = 'png' \n"
   ]
  },
  {
   "cell_type": "code",
   "execution_count": 50,
   "metadata": {},
   "outputs": [
    {
     "data": {
      "text/plain": [
       "<matplotlib.axes._subplots.AxesSubplot at 0x7f665a29b748>"
      ]
     },
     "execution_count": 50,
     "metadata": {},
     "output_type": "execute_result"
    },
    {
     "data": {
      "image/png": "[encoded data removed]",
      "text/plain": [
       "<Figure size 432x288 with 2 Axes>"
      ]
     },
     "metadata": {
      "needs_background": "light"
     },
     "output_type": "display_data"
    }
   ],
   "source": [
    "corr_matrix = df[list(set(dataset.columns) - set('Class'))].corr()\n",
    "sns.heatmap(corr_matrix)\n"
   ]
  },
  {
   "cell_type": "code",
   "execution_count": 51,
   "metadata": {},
   "outputs": [],
   "source": [
    "from sklearn.model_selection import KFold\n",
    "from sklearn.pipeline import Pipeline\n",
    "from sklearn.preprocessing import StandardScaler\n",
    "from sklearn.model_selection import GridSearchCV\n",
    "from sklearn.neighbors import KNeighborsClassifier"
   ]
  },
  {
   "cell_type": "code",
   "execution_count": 77,
   "metadata": {},
   "outputs": [],
   "source": [
    "def get_accuracy_knn(X, y, with_scaling: bool=False, n_neighbour: int=10, verbose: bool=True):\n",
    "    import sys\n",
    "    cv_folder = KFold(n_splits=5, shuffle=True, random_state=42)\n",
    "    \n",
    "    if with_scaling:\n",
    "        knn_pipe = Pipeline([('scaler', StandardScaler()), ('knn', KNeighborsClassifier(n_jobs=-1))])\n",
    "    else:\n",
    "        knn_pipe = Pipeline([('knn', KNeighborsClassifier(n_jobs=-1))])\n",
    "    \n",
    "    knn_params = {'knn__n_neighbors': range(1, n_neighbour + 1)}\n",
    "    \n",
    "    knn_grid = GridSearchCV(knn_pipe, knn_params, cv=cv_folder, n_jobs=-1, verbose=True)\n",
    "    \n",
    "    knn_grid.fit(X, y)\n",
    "    \n",
    "    print(knn_grid.best_params_, knn_grid.best_score_, file=sys.stderr)\n",
    "    \n",
    "    return knn_grid\n"
   ]
  },
  {
   "cell_type": "code",
   "execution_count": 54,
   "metadata": {},
   "outputs": [],
   "source": [
    "X = dataset[\n",
    "    ['Time', 'V1', 'V2', 'V3', 'V4', 'V5', 'V6', 'V7', 'V8', 'V9', 'V10',\n",
    "       'V11', 'V12', 'V13', 'V14', 'V15', 'V16', 'V17', 'V18', 'V19', 'V20',\n",
    "       'V21', 'V22', 'V23', 'V24', 'V25', 'V26', 'V27', 'V28', 'Amount']\n",
    "]\n",
    "y = dataset['Class']"
   ]
  },
  {
   "cell_type": "code",
   "execution_count": 78,
   "metadata": {},
   "outputs": [
    {
     "name": "stdout",
     "output_type": "stream",
     "text": [
      "Fitting 5 folds for each of 20 candidates, totalling 100 fits\n"
     ]
    },
    {
     "name": "stderr",
     "output_type": "stream",
     "text": [
      "[Parallel(n_jobs=-1)]: Using backend LokyBackend with 4 concurrent workers.\n",
      "[Parallel(n_jobs=-1)]: Done  42 tasks      | elapsed:    2.5s\n",
      "[Parallel(n_jobs=-1)]: Done 100 out of 100 | elapsed:    5.7s finished\n",
      "{'knn__n_neighbors': 3} 0.9166666666666666\n"
     ]
    },
    {
     "data": {
      "text/plain": [
       "GridSearchCV(cv=KFold(n_splits=5, random_state=42, shuffle=True),\n",
       "       error_score='raise-deprecating',\n",
       "       estimator=Pipeline(memory=None,\n",
       "     steps=[('scaler', StandardScaler(copy=True, with_mean=True, with_std=True)), ('knn', KNeighborsClassifier(algorithm='auto', leaf_size=30, metric='minkowski',\n",
       "           metric_params=None, n_jobs=-1, n_neighbors=5, p=2,\n",
       "           weights='uniform'))]),\n",
       "       fit_params=None, iid='warn', n_jobs=-1,\n",
       "       param_grid={'knn__n_neighbors': range(1, 21)},\n",
       "       pre_dispatch='2*n_jobs', refit=True, return_train_score='warn',\n",
       "       scoring=None, verbose=True)"
      ]
     },
     "execution_count": 78,
     "metadata": {},
     "output_type": "execute_result"
    }
   ],
   "source": [
    "get_accuracy_knn(X, y, with_scaling=True, n_neighbour=20)"
   ]
  },
  {
   "cell_type": "code",
   "execution_count": 56,
   "metadata": {},
   "outputs": [],
   "source": [
    "from sklearn.tree import DecisionTreeClassifier\n"
   ]
  },
  {
   "cell_type": "code",
   "execution_count": 58,
   "metadata": {},
   "outputs": [
    {
     "name": "stdout",
     "output_type": "stream",
     "text": [
      "<class 'pandas.core.frame.DataFrame'>\n",
      "Int64Index: 984 entries, 331 to 284301\n",
      "Data columns (total 30 columns):\n",
      "Time      984 non-null float64\n",
      "V1        984 non-null float64\n",
      "V2        984 non-null float64\n",
      "V3        984 non-null float64\n",
      "V4        984 non-null float64\n",
      "V5        984 non-null float64\n",
      "V6        984 non-null float64\n",
      "V7        984 non-null float64\n",
      "V8        984 non-null float64\n",
      "V9        984 non-null float64\n",
      "V10       984 non-null float64\n",
      "V11       984 non-null float64\n",
      "V12       984 non-null float64\n",
      "V13       984 non-null float64\n",
      "V14       984 non-null float64\n",
      "V15       984 non-null float64\n",
      "V16       984 non-null float64\n",
      "V17       984 non-null float64\n",
      "V18       984 non-null float64\n",
      "V19       984 non-null float64\n",
      "V20       984 non-null float64\n",
      "V21       984 non-null float64\n",
      "V22       984 non-null float64\n",
      "V23       984 non-null float64\n",
      "V24       984 non-null float64\n",
      "V25       984 non-null float64\n",
      "V26       984 non-null float64\n",
      "V27       984 non-null float64\n",
      "V28       984 non-null float64\n",
      "Amount    984 non-null float64\n",
      "dtypes: float64(30)\n",
      "memory usage: 278.3 KB\n"
     ]
    }
   ],
   "source": [
    "X.info()"
   ]
  },
  {
   "cell_type": "code",
   "execution_count": 59,
   "metadata": {},
   "outputs": [],
   "source": [
    "tree_params = {'max_depth': range(1,16),\n",
    "               'max_features': range(2,30)}\n"
   ]
  },
  {
   "cell_type": "code",
   "execution_count": 79,
   "metadata": {},
   "outputs": [],
   "source": [
    "def get_accuracy_tree(X, y, with_scaling: bool=False, verbose: bool=True):\n",
    "    import sys\n",
    "    cv_folder = KFold(n_splits=5, shuffle=True, random_state=42)\n",
    "    \n",
    "    if with_scaling:\n",
    "        tree_pipe = Pipeline([('scaler', StandardScaler()), ('tree', DecisionTreeClassifier())])\n",
    "    else:\n",
    "        tree_pipe = Pipeline([('tree', DecisionTreeClassifier())])\n",
    "    \n",
    "    tree_params = {'tree__max_depth': range(1,16), 'tree__max_features': range(2,30),}\n",
    "    \n",
    "    tree_grid = GridSearchCV(tree_pipe, tree_params, cv=cv_folder, n_jobs=-1, verbose=True)\n",
    "    \n",
    "    tree_grid.fit(X, y)\n",
    "    \n",
    "    print(tree_grid.best_params_, tree_grid.best_score_, file=sys.stderr)\n",
    "    \n",
    "    return tree_grid\n"
   ]
  },
  {
   "cell_type": "code",
   "execution_count": 80,
   "metadata": {},
   "outputs": [
    {
     "name": "stdout",
     "output_type": "stream",
     "text": [
      "Fitting 5 folds for each of 420 candidates, totalling 2100 fits\n"
     ]
    },
    {
     "name": "stderr",
     "output_type": "stream",
     "text": [
      "[Parallel(n_jobs=-1)]: Using backend LokyBackend with 4 concurrent workers.\n",
      "[Parallel(n_jobs=-1)]: Done 960 tasks      | elapsed:    2.5s\n",
      "[Parallel(n_jobs=-1)]: Done 2100 out of 2100 | elapsed:    6.3s finished\n",
      "{'tree__max_depth': 2, 'tree__max_features': 14} 0.9308943089430894\n"
     ]
    },
    {
     "data": {
      "text/plain": [
       "GridSearchCV(cv=KFold(n_splits=5, random_state=42, shuffle=True),\n",
       "       error_score='raise-deprecating',\n",
       "       estimator=Pipeline(memory=None,\n",
       "     steps=[('scaler', StandardScaler(copy=True, with_mean=True, with_std=True)), ('tree', DecisionTreeClassifier(class_weight=None, criterion='gini', max_depth=None,\n",
       "            max_features=None, max_leaf_nodes=None,\n",
       "            min_impurity_decrease=0.0, min_impurity_split=None,\n",
       "            min_samples_leaf=1, min_samples_split=2,\n",
       "            min_weight_fraction_leaf=0.0, presort=False, random_state=None,\n",
       "            splitter='best'))]),\n",
       "       fit_params=None, iid='warn', n_jobs=-1,\n",
       "       param_grid={'tree__max_depth': range(1, 16), 'tree__max_features': range(2, 30)},\n",
       "       pre_dispatch='2*n_jobs', refit=True, return_train_score='warn',\n",
       "       scoring=None, verbose=True)"
      ]
     },
     "execution_count": 80,
     "metadata": {},
     "output_type": "execute_result"
    }
   ],
   "source": [
    "get_accuracy_tree(X, y, True)"
   ]
  },
  {
   "cell_type": "code",
   "execution_count": 83,
   "metadata": {},
   "outputs": [],
   "source": [
    "from sklearn.ensemble import RandomForestClassifier\n",
    "\n",
    "def get_accuracy_forest(X, y, with_scaling: bool=False, verbose: bool=True):\n",
    "    import sys\n",
    "    cv_folder = KFold(n_splits=5, shuffle=True, random_state=42)\n",
    "    \n",
    "    if with_scaling:\n",
    "        forest_pipe = Pipeline([('scaler', StandardScaler()), ('forest', RandomForestClassifier(n_jobs=-1))])\n",
    "    else:\n",
    "        forest_pipe = Pipeline([('forest', RandomForestClassifier(n_jobs=-1))])\n",
    "    \n",
    "    forest_params = {'forest__max_depth': range(1,16), 'forest__max_features': range(2,30),}\n",
    "    \n",
    "    forest_grid = GridSearchCV(forest_pipe, forest_params, cv=cv_folder, n_jobs=-1, verbose=True)\n",
    "    \n",
    "    forest_grid.fit(X, y)\n",
    "    \n",
    "    print(forest_grid.best_params_, forest_grid.best_score_, file=sys.stderr)\n",
    "    \n",
    "    return forest_grid\n"
   ]
  },
  {
   "cell_type": "code",
   "execution_count": 84,
   "metadata": {},
   "outputs": [
    {
     "name": "stdout",
     "output_type": "stream",
     "text": [
      "Fitting 5 folds for each of 420 candidates, totalling 2100 fits\n"
     ]
    },
    {
     "name": "stderr",
     "output_type": "stream",
     "text": [
      "[Parallel(n_jobs=-1)]: Using backend LokyBackend with 4 concurrent workers.\n",
      "[Parallel(n_jobs=-1)]: Done  42 tasks      | elapsed:    4.5s\n",
      "[Parallel(n_jobs=-1)]: Done 192 tasks      | elapsed:   16.9s\n",
      "[Parallel(n_jobs=-1)]: Done 442 tasks      | elapsed:   37.7s\n",
      "[Parallel(n_jobs=-1)]: Done 792 tasks      | elapsed:  1.1min\n",
      "[Parallel(n_jobs=-1)]: Done 1242 tasks      | elapsed:  1.7min\n",
      "[Parallel(n_jobs=-1)]: Done 1792 tasks      | elapsed:  2.5min\n",
      "[Parallel(n_jobs=-1)]: Done 2100 out of 2100 | elapsed:  2.9min finished\n",
      "/home/iii/opt/anaconda3/envs/ML/lib/python3.7/site-packages/sklearn/ensemble/forest.py:248: FutureWarning: The default value of n_estimators will change from 10 in version 0.20 to 100 in 0.22.\n",
      "  \"10 in version 0.20 to 100 in 0.22.\", FutureWarning)\n",
      "{'forest__max_depth': 14, 'forest__max_features': 19} 0.9471544715447154\n"
     ]
    },
    {
     "data": {
      "text/plain": [
       "GridSearchCV(cv=KFold(n_splits=5, random_state=42, shuffle=True),\n",
       "       error_score='raise-deprecating',\n",
       "       estimator=Pipeline(memory=None,\n",
       "     steps=[('scaler', StandardScaler(copy=True, with_mean=True, with_std=True)), ('forest', RandomForestClassifier(bootstrap=True, class_weight=None, criterion='gini',\n",
       "            max_depth=None, max_features='auto', max_leaf_nodes=None,\n",
       "            min_impurity_decrease=0.0, min_impurity_split=None,\n",
       "  ..._jobs=-1,\n",
       "            oob_score=False, random_state=None, verbose=0,\n",
       "            warm_start=False))]),\n",
       "       fit_params=None, iid='warn', n_jobs=-1,\n",
       "       param_grid={'forest__max_depth': range(1, 16), 'forest__max_features': range(2, 30)},\n",
       "       pre_dispatch='2*n_jobs', refit=True, return_train_score='warn',\n",
       "       scoring=None, verbose=True)"
      ]
     },
     "execution_count": 84,
     "metadata": {},
     "output_type": "execute_result"
    }
   ],
   "source": [
    "get_accuracy_forest(X, y, True)"
   ]
  },
  {
   "cell_type": "code",
   "execution_count": null,
   "metadata": {},
   "outputs": [],
   "source": []
  }
 ],
 "metadata": {
  "kernelspec": {
   "display_name": "Python 3",
   "language": "python",
   "name": "python3"
  },
  "language_info": {
   "codemirror_mode": {
    "name": "ipython",
    "version": 3
   },
   "file_extension": ".py",
   "mimetype": "text/x-python",
   "name": "python",
   "nbconvert_exporter": "python",
   "pygments_lexer": "ipython3",
   "version": "3.7.0"
  }
 },
 "nbformat": 4,
 "nbformat_minor": 2
}
